{
 "cells": [
  {
   "cell_type": "code",
   "execution_count": 1,
   "metadata": {},
   "outputs": [
    {
     "name": "stderr",
     "output_type": "stream",
     "text": [
      "┌ Info: Recompiling stale cache file /opt/julia/compiled/v1.1/Distributions/xILW0.ji for Distributions [31c24e10-a181-5473-b8eb-7969acd0382f]\n",
      "└ @ Base loading.jl:1184\n",
      "┌ Info: Recompiling stale cache file /opt/julia/compiled/v1.1/CSV/HHBkp.ji for CSV [336ed68f-0bac-5ca0-87d4-7b16caf5d00b]\n",
      "└ @ Base loading.jl:1184\n"
     ]
    }
   ],
   "source": [
    "using Distributions\n",
    "using LinearAlgebra\n",
    "using Random\n",
    "using CSV"
   ]
  },
  {
   "cell_type": "code",
   "execution_count": 2,
   "metadata": {},
   "outputs": [
    {
     "data": {
      "text/plain": [
       "getX (generic function with 1 method)"
      ]
     },
     "execution_count": 2,
     "metadata": {},
     "output_type": "execute_result"
    }
   ],
   "source": [
    "using DataFrames, SparseArrays, LinearAlgebra\n",
    "# This function returns a dictionary with the unique values in the vector \"a\" as the keys and their \n",
    "# sequential numbers as the associated values\n",
    "# It also returns vector with the keys in sequential order. \n",
    "function mkDict(a)\n",
    "  aUnique = unique(a)\n",
    "  d = Dict()\n",
    "  names = Array{String}(undef,size(aUnique,1))\n",
    "  for (i,s) in enumerate(aUnique)\n",
    "    names[i] = s\n",
    "    d[s] = i\n",
    "  end\n",
    "  return d,names\n",
    "end\n",
    "\n",
    "\n",
    "\n",
    "\n",
    "function getX(factor,df;cov=false)\n",
    "    data = df[:,Symbol(factor)]\n",
    "    n = size(data,1)\n",
    "    if cov==false\n",
    "        str = data\n",
    "        val = 1.0\n",
    "    else \n",
    "        str = fill(factor,n)\n",
    "        val = data\n",
    "    end\n",
    "\n",
    "    dict,names   = mkDict(str)\n",
    "    ii    = 1:n                    # row numbers \n",
    "    jj   = [dict[i] for i in str]  # column numbers\n",
    "    X    = sparse(ii,jj,val)    \n",
    "end  "
   ]
  },
  {
   "cell_type": "code",
   "execution_count": 3,
   "metadata": {},
   "outputs": [
    {
     "name": "stdout",
     "output_type": "stream",
     "text": [
      " 28.471359 seconds (37.32 k allocations: 10.393 GiB, 0.07% gc time)\n"
     ]
    },
    {
     "data": {
      "text/plain": [
       "3205×435172 Array{Float64,2}:\n",
       " 0.0  2.0  0.0  2.0  2.0  0.0  2.0  2.0  …  0.0  2.0  0.0  2.0  2.0  2.0  2.0\n",
       " 1.0  2.0  0.0  2.0  2.0  0.0  1.0  2.0     0.0  2.0  1.0  2.0  2.0  2.0  2.0\n",
       " 0.0  2.0  0.0  1.0  2.0  0.0  1.0  2.0     0.0  2.0  0.0  2.0  2.0  2.0  2.0\n",
       " 1.0  2.0  0.0  1.0  2.0  0.0  1.0  2.0     0.0  2.0  1.0  2.0  2.0  2.0  2.0\n",
       " 0.0  2.0  0.0  2.0  2.0  0.0  2.0  2.0     0.0  2.0  0.0  2.0  2.0  2.0  2.0\n",
       " 1.0  1.0  1.0  0.0  1.0  1.0  0.0  1.0  …  0.0  2.0  0.0  2.0  2.0  2.0  2.0\n",
       " 0.0  2.0  0.0  1.0  2.0  0.0  1.0  2.0     0.0  2.0  0.0  2.0  2.0  2.0  2.0\n",
       " 0.0  2.0  0.0  0.0  2.0  0.0  0.0  2.0     0.0  2.0  0.0  2.0  2.0  2.0  2.0\n",
       " 1.0  2.0  0.0  0.0  2.0  0.0  0.0  2.0     0.0  2.0  0.0  2.0  2.0  2.0  2.0\n",
       " 0.0  2.0  0.0  2.0  2.0  0.0  2.0  2.0     0.0  2.0  1.0  2.0  2.0  2.0  2.0\n",
       " 1.0  1.0  0.0  1.0  2.0  0.0  0.0  2.0  …  0.0  2.0  0.0  2.0  2.0  2.0  2.0\n",
       " 0.0  2.0  0.0  0.0  2.0  0.0  0.0  2.0     0.0  2.0  0.0  2.0  2.0  2.0  2.0\n",
       " 1.0  1.0  1.0  1.0  1.0  1.0  1.0  1.0     0.0  2.0  1.0  2.0  2.0  2.0  2.0\n",
       " ⋮                        ⋮              ⋱  ⋮                        ⋮       \n",
       " 0.0  2.0  0.0  0.0  2.0  0.0  0.0  2.0     1.0  2.0  0.0  2.0  2.0  2.0  2.0\n",
       " 1.0  2.0  0.0  1.0  2.0  0.0  0.0  2.0     1.0  2.0  0.0  2.0  2.0  2.0  2.0\n",
       " 2.0  2.0  0.0  2.0  2.0  0.0  0.0  2.0  …  1.0  2.0  0.0  2.0  2.0  2.0  2.0\n",
       " 2.0  1.0  1.0  1.0  1.0  1.0  0.0  1.0     1.0  2.0  0.0  2.0  2.0  2.0  2.0\n",
       " 2.0  2.0  0.0  2.0  2.0  0.0  0.0  2.0     0.0  2.0  0.0  2.0  2.0  2.0  2.0\n",
       " 2.0  2.0  0.0  2.0  2.0  0.0  0.0  2.0     1.0  2.0  0.0  2.0  2.0  2.0  2.0\n",
       " 1.0  1.0  1.0  0.0  1.0  1.0  0.0  1.0     0.0  2.0  0.0  2.0  2.0  2.0  2.0\n",
       " 2.0  0.0  2.0  0.0  0.0  2.0  0.0  0.0  …  1.0  2.0  0.0  2.0  2.0  2.0  2.0\n",
       " 0.0  2.0  0.0  1.0  2.0  0.0  1.0  2.0     1.0  2.0  0.0  2.0  2.0  2.0  2.0\n",
       " 1.0  1.0  1.0  1.0  1.0  1.0  1.0  1.0     1.0  2.0  0.0  2.0  2.0  2.0  2.0\n",
       " 0.0  2.0  0.0  1.0  2.0  0.0  1.0  2.0     1.0  2.0  0.0  2.0  2.0  2.0  2.0\n",
       " 1.0  2.0  0.0  1.0  2.0  0.0  0.0  2.0     1.0  2.0  0.0  2.0  2.0  2.0  2.0"
      ]
     },
     "execution_count": 3,
     "metadata": {},
     "output_type": "execute_result"
    }
   ],
   "source": [
    "function readMatBin(fileName)\n",
    "    genStr = open(fileName)\n",
    "    n = read(genStr,Int64)\n",
    "    p = read(genStr,Int64)\n",
    "    M = zeros(n,p)\n",
    "    for j in 1:p\n",
    "        for i in 1:n\n",
    "            M[i,j] = read(genStr,Float64)\n",
    "        end\n",
    "    end\n",
    "    close(genStr)\n",
    "    return M\n",
    "end\n",
    "@time M = readMatBin(\"/home/jovyan/mark/JWAS_CDPQ/CDPQ_all_data/ALGP2_Cycle_1_7_Geno_Complete_Impute_JWAS.bin.gen.bin\")"
   ]
  },
  {
   "cell_type": "code",
   "execution_count": 4,
   "metadata": {},
   "outputs": [
    {
     "data": {
      "text/plain": [
       "3205-element Array{String,1}:\n",
       " \"0001\"\n",
       " \"0002\"\n",
       " \"0004\"\n",
       " \"0005\"\n",
       " \"0006\"\n",
       " \"0007\"\n",
       " \"0009\"\n",
       " \"0010\"\n",
       " \"0011\"\n",
       " \"0012\"\n",
       " \"0013\"\n",
       " \"0014\"\n",
       " \"0015\"\n",
       " ⋮     \n",
       " \"3283\"\n",
       " \"3284\"\n",
       " \"3285\"\n",
       " \"3286\"\n",
       " \"3287\"\n",
       " \"3288\"\n",
       " \"3289\"\n",
       " \"3290\"\n",
       " \"3291\"\n",
       " \"3292\"\n",
       " \"3293\"\n",
       " \"3294\""
      ]
     },
     "execution_count": 4,
     "metadata": {},
     "output_type": "execute_result"
    }
   ],
   "source": [
    "using DelimitedFiles\n",
    "rowID = vec(readdlm(\"/home/jovyan/mark/JWAS_CDPQ/CDPQ_all_data/ALGP2_Cycle_1_7_Geno_Complete_Impute_JWAS.bin.ids.txt\",String))"
   ]
  },
  {
   "cell_type": "code",
   "execution_count": 5,
   "metadata": {
    "scrolled": true
   },
   "outputs": [
    {
     "data": {
      "text/html": [
       "<table class=\"data-frame\"><thead><tr><th></th><th>ID</th><th>Cycle</th><th>BatchNum</th><th>Batch</th><th>Company</th><th>SowID</th><th>NurEnrich</th><th>QNurPenBatch</th><th>NurPenBatch</th></tr><tr><th></th><th>String</th><th>Int64</th><th>Int64</th><th>String</th><th>String</th><th>String</th><th>String</th><th>String</th><th>String⍰</th></tr></thead><tbody><p>10 rows × 49 columns (omitted printing of 40 columns)</p><tr><th>1</th><td>0001</td><td>1</td><td>1</td><td>1B</td><td>A</td><td>1B_1715</td><td>FALSE</td><td>1B_D04</td><td>1B_D04</td></tr><tr><th>2</th><td>0002</td><td>1</td><td>1</td><td>1B</td><td>A</td><td>1B_1642</td><td>FALSE</td><td>1B_D04</td><td>1B_D04</td></tr><tr><th>3</th><td>0004</td><td>1</td><td>1</td><td>1B</td><td>A</td><td>1B_2150</td><td>FALSE</td><td>1B_D04</td><td>1B_D04</td></tr><tr><th>4</th><td>0005</td><td>1</td><td>1</td><td>1B</td><td>A</td><td>1B_1980</td><td>FALSE</td><td>1B_D04</td><td>1B_D04</td></tr><tr><th>5</th><td>0006</td><td>1</td><td>1</td><td>1B</td><td>A</td><td>1B_1902</td><td>FALSE</td><td>1B_D04</td><td>1B_D04</td></tr><tr><th>6</th><td>0007</td><td>1</td><td>1</td><td>1B</td><td>A</td><td>1B_2150</td><td>FALSE</td><td>1B_D04</td><td>1B_D04</td></tr><tr><th>7</th><td>0009</td><td>1</td><td>1</td><td>1B</td><td>A</td><td>1B_1902</td><td>FALSE</td><td>1B_D02</td><td>1B_D02</td></tr><tr><th>8</th><td>0010</td><td>1</td><td>1</td><td>1B</td><td>A</td><td>1B_1885</td><td>FALSE</td><td>1B_D02</td><td>1B_D02</td></tr><tr><th>9</th><td>0011</td><td>1</td><td>1</td><td>1B</td><td>A</td><td>1B_2097</td><td>FALSE</td><td>1B_D02</td><td>1B_D02</td></tr><tr><th>10</th><td>0012</td><td>1</td><td>1</td><td>1B</td><td>A</td><td>1B_1902</td><td>FALSE</td><td>1B_D02</td><td>1B_D02</td></tr></tbody></table>"
      ],
      "text/latex": [
       "\\begin{tabular}{r|cccccccccc}\n",
       "\t& ID & Cycle & BatchNum & Batch & Company & SowID & NurEnrich & QNurPenBatch & NurPenBatch & \\\\\n",
       "\t\\hline\n",
       "\t& String & Int64 & Int64 & String & String & String & String & String & String⍰ & \\\\\n",
       "\t\\hline\n",
       "\t1 & 0001 & 1 & 1 & 1B & A & 1B\\_1715 & FALSE & 1B\\_D04 & 1B\\_D04 & $\\dots$ \\\\\n",
       "\t2 & 0002 & 1 & 1 & 1B & A & 1B\\_1642 & FALSE & 1B\\_D04 & 1B\\_D04 & $\\dots$ \\\\\n",
       "\t3 & 0004 & 1 & 1 & 1B & A & 1B\\_2150 & FALSE & 1B\\_D04 & 1B\\_D04 & $\\dots$ \\\\\n",
       "\t4 & 0005 & 1 & 1 & 1B & A & 1B\\_1980 & FALSE & 1B\\_D04 & 1B\\_D04 & $\\dots$ \\\\\n",
       "\t5 & 0006 & 1 & 1 & 1B & A & 1B\\_1902 & FALSE & 1B\\_D04 & 1B\\_D04 & $\\dots$ \\\\\n",
       "\t6 & 0007 & 1 & 1 & 1B & A & 1B\\_2150 & FALSE & 1B\\_D04 & 1B\\_D04 & $\\dots$ \\\\\n",
       "\t7 & 0009 & 1 & 1 & 1B & A & 1B\\_1902 & FALSE & 1B\\_D02 & 1B\\_D02 & $\\dots$ \\\\\n",
       "\t8 & 0010 & 1 & 1 & 1B & A & 1B\\_1885 & FALSE & 1B\\_D02 & 1B\\_D02 & $\\dots$ \\\\\n",
       "\t9 & 0011 & 1 & 1 & 1B & A & 1B\\_2097 & FALSE & 1B\\_D02 & 1B\\_D02 & $\\dots$ \\\\\n",
       "\t10 & 0012 & 1 & 1 & 1B & A & 1B\\_1902 & FALSE & 1B\\_D02 & 1B\\_D02 & $\\dots$ \\\\\n",
       "\\end{tabular}\n"
      ],
      "text/plain": [
       "10×49 DataFrame. Omitted printing of 42 columns\n",
       "│ Row │ ID     │ Cycle │ BatchNum │ Batch  │ Company │ SowID   │ NurEnrich │\n",
       "│     │ \u001b[90mString\u001b[39m │ \u001b[90mInt64\u001b[39m │ \u001b[90mInt64\u001b[39m    │ \u001b[90mString\u001b[39m │ \u001b[90mString\u001b[39m  │ \u001b[90mString\u001b[39m  │ \u001b[90mString\u001b[39m    │\n",
       "├─────┼────────┼───────┼──────────┼────────┼─────────┼─────────┼───────────┤\n",
       "│ 1   │ 0001   │ 1     │ 1        │ 1B     │ A       │ 1B_1715 │ FALSE     │\n",
       "│ 2   │ 0002   │ 1     │ 1        │ 1B     │ A       │ 1B_1642 │ FALSE     │\n",
       "│ 3   │ 0004   │ 1     │ 1        │ 1B     │ A       │ 1B_2150 │ FALSE     │\n",
       "│ 4   │ 0005   │ 1     │ 1        │ 1B     │ A       │ 1B_1980 │ FALSE     │\n",
       "│ 5   │ 0006   │ 1     │ 1        │ 1B     │ A       │ 1B_1902 │ FALSE     │\n",
       "│ 6   │ 0007   │ 1     │ 1        │ 1B     │ A       │ 1B_2150 │ FALSE     │\n",
       "│ 7   │ 0009   │ 1     │ 1        │ 1B     │ A       │ 1B_1902 │ FALSE     │\n",
       "│ 8   │ 0010   │ 1     │ 1        │ 1B     │ A       │ 1B_1885 │ FALSE     │\n",
       "│ 9   │ 0011   │ 1     │ 1        │ 1B     │ A       │ 1B_2097 │ FALSE     │\n",
       "│ 10  │ 0012   │ 1     │ 1        │ 1B     │ A       │ 1B_1902 │ FALSE     │"
      ]
     },
     "execution_count": 5,
     "metadata": {},
     "output_type": "execute_result"
    }
   ],
   "source": [
    "phenotypes = CSV.read(\"production_1_7_Exp.dat\", types=Dict(:ID => String, :Died => String), delim = ' ',header=true, missingstrings=[\"NA\"] )\n",
    "first(phenotypes,10)"
   ]
  },
  {
   "cell_type": "code",
   "execution_count": 6,
   "metadata": {
    "scrolled": true
   },
   "outputs": [
    {
     "data": {
      "text/html": [
       "<table class=\"data-frame\"><thead><tr><th></th><th>ID</th><th>Cycle</th><th>BatchNum</th><th>Batch</th><th>Company</th><th>SowID</th><th>NurEnrich</th><th>QNurPenBatch</th><th>NurPenBatch</th></tr><tr><th></th><th>String</th><th>Int64</th><th>Int64</th><th>String</th><th>String</th><th>String</th><th>String</th><th>String</th><th>String⍰</th></tr></thead><tbody><p>10 rows × 49 columns (omitted printing of 40 columns)</p><tr><th>1</th><td>0001</td><td>1</td><td>1</td><td>1B</td><td>A</td><td>1B_1715</td><td>FALSE</td><td>1B_D04</td><td>1B_D04</td></tr><tr><th>2</th><td>0002</td><td>1</td><td>1</td><td>1B</td><td>A</td><td>1B_1642</td><td>FALSE</td><td>1B_D04</td><td>1B_D04</td></tr><tr><th>3</th><td>0004</td><td>1</td><td>1</td><td>1B</td><td>A</td><td>1B_2150</td><td>FALSE</td><td>1B_D04</td><td>1B_D04</td></tr><tr><th>4</th><td>0005</td><td>1</td><td>1</td><td>1B</td><td>A</td><td>1B_1980</td><td>FALSE</td><td>1B_D04</td><td>1B_D04</td></tr><tr><th>5</th><td>0007</td><td>1</td><td>1</td><td>1B</td><td>A</td><td>1B_2150</td><td>FALSE</td><td>1B_D04</td><td>1B_D04</td></tr><tr><th>6</th><td>0009</td><td>1</td><td>1</td><td>1B</td><td>A</td><td>1B_1902</td><td>FALSE</td><td>1B_D02</td><td>1B_D02</td></tr><tr><th>7</th><td>0010</td><td>1</td><td>1</td><td>1B</td><td>A</td><td>1B_1885</td><td>FALSE</td><td>1B_D02</td><td>1B_D02</td></tr><tr><th>8</th><td>0011</td><td>1</td><td>1</td><td>1B</td><td>A</td><td>1B_2097</td><td>FALSE</td><td>1B_D02</td><td>1B_D02</td></tr><tr><th>9</th><td>0012</td><td>1</td><td>1</td><td>1B</td><td>A</td><td>1B_1902</td><td>FALSE</td><td>1B_D02</td><td>1B_D02</td></tr><tr><th>10</th><td>0013</td><td>1</td><td>1</td><td>1B</td><td>A</td><td>1B_1643</td><td>FALSE</td><td>1B_D02</td><td>1B_D02</td></tr></tbody></table>"
      ],
      "text/latex": [
       "\\begin{tabular}{r|cccccccccc}\n",
       "\t& ID & Cycle & BatchNum & Batch & Company & SowID & NurEnrich & QNurPenBatch & NurPenBatch & \\\\\n",
       "\t\\hline\n",
       "\t& String & Int64 & Int64 & String & String & String & String & String & String⍰ & \\\\\n",
       "\t\\hline\n",
       "\t1 & 0001 & 1 & 1 & 1B & A & 1B\\_1715 & FALSE & 1B\\_D04 & 1B\\_D04 & $\\dots$ \\\\\n",
       "\t2 & 0002 & 1 & 1 & 1B & A & 1B\\_1642 & FALSE & 1B\\_D04 & 1B\\_D04 & $\\dots$ \\\\\n",
       "\t3 & 0004 & 1 & 1 & 1B & A & 1B\\_2150 & FALSE & 1B\\_D04 & 1B\\_D04 & $\\dots$ \\\\\n",
       "\t4 & 0005 & 1 & 1 & 1B & A & 1B\\_1980 & FALSE & 1B\\_D04 & 1B\\_D04 & $\\dots$ \\\\\n",
       "\t5 & 0007 & 1 & 1 & 1B & A & 1B\\_2150 & FALSE & 1B\\_D04 & 1B\\_D04 & $\\dots$ \\\\\n",
       "\t6 & 0009 & 1 & 1 & 1B & A & 1B\\_1902 & FALSE & 1B\\_D02 & 1B\\_D02 & $\\dots$ \\\\\n",
       "\t7 & 0010 & 1 & 1 & 1B & A & 1B\\_1885 & FALSE & 1B\\_D02 & 1B\\_D02 & $\\dots$ \\\\\n",
       "\t8 & 0011 & 1 & 1 & 1B & A & 1B\\_2097 & FALSE & 1B\\_D02 & 1B\\_D02 & $\\dots$ \\\\\n",
       "\t9 & 0012 & 1 & 1 & 1B & A & 1B\\_1902 & FALSE & 1B\\_D02 & 1B\\_D02 & $\\dots$ \\\\\n",
       "\t10 & 0013 & 1 & 1 & 1B & A & 1B\\_1643 & FALSE & 1B\\_D02 & 1B\\_D02 & $\\dots$ \\\\\n",
       "\\end{tabular}\n"
      ],
      "text/plain": [
       "10×49 DataFrame. Omitted printing of 42 columns\n",
       "│ Row │ ID     │ Cycle │ BatchNum │ Batch  │ Company │ SowID   │ NurEnrich │\n",
       "│     │ \u001b[90mString\u001b[39m │ \u001b[90mInt64\u001b[39m │ \u001b[90mInt64\u001b[39m    │ \u001b[90mString\u001b[39m │ \u001b[90mString\u001b[39m  │ \u001b[90mString\u001b[39m  │ \u001b[90mString\u001b[39m    │\n",
       "├─────┼────────┼───────┼──────────┼────────┼─────────┼─────────┼───────────┤\n",
       "│ 1   │ 0001   │ 1     │ 1        │ 1B     │ A       │ 1B_1715 │ FALSE     │\n",
       "│ 2   │ 0002   │ 1     │ 1        │ 1B     │ A       │ 1B_1642 │ FALSE     │\n",
       "│ 3   │ 0004   │ 1     │ 1        │ 1B     │ A       │ 1B_2150 │ FALSE     │\n",
       "│ 4   │ 0005   │ 1     │ 1        │ 1B     │ A       │ 1B_1980 │ FALSE     │\n",
       "│ 5   │ 0007   │ 1     │ 1        │ 1B     │ A       │ 1B_2150 │ FALSE     │\n",
       "│ 6   │ 0009   │ 1     │ 1        │ 1B     │ A       │ 1B_1902 │ FALSE     │\n",
       "│ 7   │ 0010   │ 1     │ 1        │ 1B     │ A       │ 1B_1885 │ FALSE     │\n",
       "│ 8   │ 0011   │ 1     │ 1        │ 1B     │ A       │ 1B_2097 │ FALSE     │\n",
       "│ 9   │ 0012   │ 1     │ 1        │ 1B     │ A       │ 1B_1902 │ FALSE     │\n",
       "│ 10  │ 0013   │ 1     │ 1        │ 1B     │ A       │ 1B_1643 │ FALSE     │"
      ]
     },
     "execution_count": 6,
     "metadata": {},
     "output_type": "execute_result"
    }
   ],
   "source": [
    "res = phenotypes[:,:Nur2ADG]\n",
    "phenotypes=dropmissing(phenotypes, :Nur2ADG)\n",
    "first(phenotypes,10)"
   ]
  },
  {
   "cell_type": "code",
   "execution_count": 7,
   "metadata": {},
   "outputs": [
    {
     "data": {
      "text/plain": [
       "3172×3205 Array{Float64,2}:\n",
       " 1.0  0.0  0.0  0.0  0.0  0.0  0.0  0.0  …  0.0  0.0  0.0  0.0  0.0  0.0  0.0\n",
       " 0.0  1.0  0.0  0.0  0.0  0.0  0.0  0.0     0.0  0.0  0.0  0.0  0.0  0.0  0.0\n",
       " 0.0  0.0  1.0  0.0  0.0  0.0  0.0  0.0     0.0  0.0  0.0  0.0  0.0  0.0  0.0\n",
       " 0.0  0.0  0.0  1.0  0.0  0.0  0.0  0.0     0.0  0.0  0.0  0.0  0.0  0.0  0.0\n",
       " 0.0  0.0  0.0  0.0  0.0  1.0  0.0  0.0     0.0  0.0  0.0  0.0  0.0  0.0  0.0\n",
       " 0.0  0.0  0.0  0.0  0.0  0.0  1.0  0.0  …  0.0  0.0  0.0  0.0  0.0  0.0  0.0\n",
       " 0.0  0.0  0.0  0.0  0.0  0.0  0.0  1.0     0.0  0.0  0.0  0.0  0.0  0.0  0.0\n",
       " 0.0  0.0  0.0  0.0  0.0  0.0  0.0  0.0     0.0  0.0  0.0  0.0  0.0  0.0  0.0\n",
       " 0.0  0.0  0.0  0.0  0.0  0.0  0.0  0.0     0.0  0.0  0.0  0.0  0.0  0.0  0.0\n",
       " 0.0  0.0  0.0  0.0  0.0  0.0  0.0  0.0     0.0  0.0  0.0  0.0  0.0  0.0  0.0\n",
       " 0.0  0.0  0.0  0.0  0.0  0.0  0.0  0.0  …  0.0  0.0  0.0  0.0  0.0  0.0  0.0\n",
       " 0.0  0.0  0.0  0.0  0.0  0.0  0.0  0.0     0.0  0.0  0.0  0.0  0.0  0.0  0.0\n",
       " 0.0  0.0  0.0  0.0  0.0  0.0  0.0  0.0     0.0  0.0  0.0  0.0  0.0  0.0  0.0\n",
       " ⋮                        ⋮              ⋱            ⋮                      \n",
       " 0.0  0.0  0.0  0.0  0.0  0.0  0.0  0.0  …  0.0  0.0  0.0  0.0  0.0  0.0  0.0\n",
       " 0.0  0.0  0.0  0.0  0.0  0.0  0.0  0.0     0.0  0.0  0.0  0.0  0.0  0.0  0.0\n",
       " 0.0  0.0  0.0  0.0  0.0  0.0  0.0  0.0     0.0  0.0  0.0  0.0  0.0  0.0  0.0\n",
       " 0.0  0.0  0.0  0.0  0.0  0.0  0.0  0.0     0.0  0.0  0.0  0.0  0.0  0.0  0.0\n",
       " 0.0  0.0  0.0  0.0  0.0  0.0  0.0  0.0     0.0  0.0  0.0  0.0  0.0  0.0  0.0\n",
       " 0.0  0.0  0.0  0.0  0.0  0.0  0.0  0.0  …  1.0  0.0  0.0  0.0  0.0  0.0  0.0\n",
       " 0.0  0.0  0.0  0.0  0.0  0.0  0.0  0.0     0.0  1.0  0.0  0.0  0.0  0.0  0.0\n",
       " 0.0  0.0  0.0  0.0  0.0  0.0  0.0  0.0     0.0  0.0  1.0  0.0  0.0  0.0  0.0\n",
       " 0.0  0.0  0.0  0.0  0.0  0.0  0.0  0.0     0.0  0.0  0.0  1.0  0.0  0.0  0.0\n",
       " 0.0  0.0  0.0  0.0  0.0  0.0  0.0  0.0     0.0  0.0  0.0  0.0  1.0  0.0  0.0\n",
       " 0.0  0.0  0.0  0.0  0.0  0.0  0.0  0.0  …  0.0  0.0  0.0  0.0  0.0  1.0  0.0\n",
       " 0.0  0.0  0.0  0.0  0.0  0.0  0.0  0.0     0.0  0.0  0.0  0.0  0.0  0.0  1.0"
      ]
     },
     "execution_count": 7,
     "metadata": {},
     "output_type": "execute_result"
    }
   ],
   "source": [
    "sel = .!(ismissing.(res))\n",
    "ZFull = Matrix{Float64}(I,3205,3205)\n",
    "Z = ZFull[sel,:]"
   ]
  },
  {
   "cell_type": "code",
   "execution_count": 8,
   "metadata": {},
   "outputs": [
    {
     "name": "stdout",
     "output_type": "stream",
     "text": [
      " 61.738259 seconds (1.35 M allocations: 10.574 GiB, 0.89% gc time)\n"
     ]
    },
    {
     "data": {
      "text/plain": [
       "3172×3172 Array{Float64,2}:\n",
       " 0.0129128   0.0112167   0.010408    …  0.0101365  0.0100738   0.00989476\n",
       " 0.0112167   0.0130351   0.0102541      0.0101309  0.0100851   0.00994304\n",
       " 0.010408    0.0102541   0.012849       0.0101402  0.0100326   0.00974491\n",
       " 0.0102313   0.0104692   0.0100764      0.0100464  0.0101097   0.00982027\n",
       " 0.010297    0.0103345   0.0115547      0.010044   0.0100768   0.0097877 \n",
       " 0.0108566   0.0111189   0.0103271   …  0.0101269  0.0100352   0.00984461\n",
       " 0.010282    0.0104129   0.0107392      0.0100809  0.0100971   0.00974967\n",
       " 0.0102237   0.0102356   0.0103028      0.0100304  0.00993201  0.00985399\n",
       " 0.0104252   0.0104298   0.0103173      0.0101418  0.0101148   0.00987326\n",
       " 0.0104348   0.010607    0.011048       0.0101178  0.0100102   0.00978132\n",
       " 0.0103884   0.0103724   0.0117066   …  0.0102054  0.0100674   0.00985725\n",
       " 0.0103007   0.0105695   0.0101989      0.0101569  0.0101805   0.00989209\n",
       " 0.0103936   0.0105773   0.01015        0.010037   0.0101401   0.00985121\n",
       " ⋮                                   ⋱             ⋮                     \n",
       " 0.0100379   0.0100398   0.0101727   …  0.0107559  0.0113944   0.0102883 \n",
       " 0.0100903   0.0100935   0.0100629      0.0107345  0.0104657   0.0108992 \n",
       " 0.0101071   0.0101775   0.0099956      0.0106849  0.0105651   0.0112742 \n",
       " 0.0101689   0.0101225   0.0101223      0.0107628  0.0107199   0.0103777 \n",
       " 0.0101108   0.0100418   0.0101988      0.0107268  0.0106673   0.0102298 \n",
       " 0.0101621   0.010112    0.0100215   …  0.0106723  0.0107798   0.0103247 \n",
       " 0.0100763   0.0100845   0.0100464      0.0114561  0.0107299   0.0105678 \n",
       " 0.0100063   0.0100062   0.0100483      0.0107417  0.0105644   0.0104494 \n",
       " 0.0100421   0.0100206   0.0100923      0.0106611  0.0106885   0.0103226 \n",
       " 0.0101365   0.0101309   0.0101402      0.0128201  0.0105982   0.0104488 \n",
       " 0.0100738   0.0100851   0.0100326   …  0.0105982  0.0128668   0.0103066 \n",
       " 0.00989476  0.00994304  0.00974491     0.0104488  0.0103066   0.0122717 "
      ]
     },
     "execution_count": 8,
     "metadata": {},
     "output_type": "execute_result"
    }
   ],
   "source": [
    "# Add markers\n",
    "varG = 0.295395E-02\n",
    "sum_2pq=165899.511107207\n",
    "varAlpha = varG/sum_2pq\n",
    "@time G = Z*M*M'*Z'*varAlpha"
   ]
  },
  {
   "cell_type": "code",
   "execution_count": 9,
   "metadata": {},
   "outputs": [
    {
     "data": {
      "text/plain": [
       "3172×3172 Array{Float64,2}:\n",
       " 51.852  49.586  49.586  49.586  49.586  …  65.714  66.714  66.714  66.714\n",
       " 49.586  47.423  47.423  47.423  47.423     62.727  63.727  63.727  63.727\n",
       " 49.586  47.423  47.423  47.423  47.423     62.727  63.727  63.727  63.727\n",
       " 49.586  47.423  47.423  47.423  47.423     62.727  63.727  63.727  63.727\n",
       " 49.586  47.423  47.423  47.423  47.423     62.727  63.727  63.727  63.727\n",
       " 47.32   45.26   45.26   45.26   45.26   …  59.74   60.74   60.74   60.74 \n",
       " 49.586  47.423  47.423  47.423  47.423     62.727  63.727  63.727  63.727\n",
       " 51.852  49.586  49.586  49.586  49.586     65.714  66.714  66.714  66.714\n",
       " 47.32   45.26   45.26   45.26   45.26      59.74   60.74   60.74   60.74 \n",
       " 51.852  49.586  49.586  49.586  49.586     65.714  66.714  66.714  66.714\n",
       " 49.586  47.423  47.423  47.423  47.423  …  62.727  63.727  63.727  63.727\n",
       " 49.586  47.423  47.423  47.423  47.423     62.727  63.727  63.727  63.727\n",
       " 49.586  47.423  47.423  47.423  47.423     62.727  63.727  63.727  63.727\n",
       "  ⋮                                      ⋱                   ⋮            \n",
       " 66.714  63.727  63.727  63.727  63.727  …  87.623  88.623  88.623  88.623\n",
       " 66.714  63.727  63.727  63.727  63.727     87.623  88.623  88.623  88.623\n",
       " 66.714  63.727  63.727  63.727  63.727     87.623  88.623  88.623  88.623\n",
       " 66.714  63.727  63.727  63.727  63.727     87.623  88.623  88.623  88.623\n",
       " 65.714  62.727  62.727  62.727  62.727     88.623  87.623  87.623  87.623\n",
       " 65.714  62.727  62.727  62.727  62.727  …  88.623  87.623  87.623  87.623\n",
       " 66.714  63.727  63.727  63.727  63.727     87.623  88.623  88.623  88.623\n",
       " 66.714  63.727  63.727  63.727  63.727     87.623  88.623  88.623  88.623\n",
       " 65.714  62.727  62.727  62.727  62.727     88.623  87.623  87.623  87.623\n",
       " 66.714  63.727  63.727  63.727  63.727     87.623  88.623  88.623  88.623\n",
       " 66.714  63.727  63.727  63.727  63.727  …  87.623  88.623  88.623  88.623\n",
       " 66.714  63.727  63.727  63.727  63.727     87.623  88.623  88.623  88.623"
      ]
     },
     "execution_count": 9,
     "metadata": {},
     "output_type": "execute_result"
    }
   ],
   "source": [
    "# treat fixed effect as random with large variance, because residual var/ batch var is too small, nothing was added to diagonal.\n",
    "X1 = getX(\"Batch\",phenotypes)\n",
    "X2 = getX(\"Died\",phenotypes)\n",
    "X3 = getX(\"EntryAge\",phenotypes,cov=true)\n",
    "\n",
    "var_Batch = 1\n",
    "var_Died  = 1\n",
    "var_Age=0.103\n",
    "X=var_Batch*X1*X1' + var_Died*X2*X2' + var_Age*X3*X3'\n",
    "Matrix(X)"
   ]
  },
  {
   "cell_type": "code",
   "execution_count": 10,
   "metadata": {},
   "outputs": [
    {
     "data": {
      "text/plain": [
       "3172×3172 SparseMatrixCSC{Float64,Int64} with 30240 stored entries:\n",
       "  [1   ,    1]  =  0.00199897\n",
       "  [2   ,    1]  =  0.0010715\n",
       "  [3   ,    1]  =  0.0010715\n",
       "  [4   ,    1]  =  0.0010715\n",
       "  [5   ,    1]  =  0.0010715\n",
       "  [33  ,    1]  =  0.000927471\n",
       "  [48  ,    1]  =  0.000927471\n",
       "  [1   ,    2]  =  0.0010715\n",
       "  [2   ,    2]  =  0.00199897\n",
       "  [3   ,    2]  =  0.0010715\n",
       "  [4   ,    2]  =  0.0010715\n",
       "  [5   ,    2]  =  0.0010715\n",
       "  ⋮\n",
       "  [3156, 3171]  =  0.0010715\n",
       "  [3163, 3171]  =  0.0010715\n",
       "  [3171, 3171]  =  0.00199897\n",
       "  [3100, 3172]  =  0.0010715\n",
       "  [3101, 3172]  =  0.0010715\n",
       "  [3102, 3172]  =  0.0010715\n",
       "  [3110, 3172]  =  0.0010715\n",
       "  [3118, 3172]  =  0.0010715\n",
       "  [3144, 3172]  =  0.0010715\n",
       "  [3153, 3172]  =  0.0010715\n",
       "  [3170, 3172]  =  0.0010715\n",
       "  [3172, 3172]  =  0.00199897"
      ]
     },
     "execution_count": 10,
     "metadata": {},
     "output_type": "execute_result"
    }
   ],
   "source": [
    "Z1 = getX(\"NurPenBatch\",phenotypes)\n",
    "Matrix(Z1*Z1')\n",
    "Z2 = getX(\"SowID\",phenotypes)\n",
    "Matrix(Z2*Z2')\n",
    "\n",
    "var_pen= 0.107150E-02\n",
    "var_sow= 0.927471E-03\n",
    "U=var_pen*Z1*Z1' + var_sow*Z2*Z2'"
   ]
  },
  {
   "cell_type": "code",
   "execution_count": 11,
   "metadata": {},
   "outputs": [
    {
     "data": {
      "text/plain": [
       "3172×3172 Array{Float64,2}:\n",
       " 51.8785  49.5983  49.5975  49.5973  …  65.724   66.7241  66.7241  66.7239\n",
       " 49.5983  47.4496  47.4343  47.4345     62.737   63.7371  63.7371  63.7369\n",
       " 49.5975  47.4343  47.4494  47.4341     62.7371  63.7371  63.737   63.7367\n",
       " 49.5973  47.4345  47.4341  47.4495     62.737   63.737   63.7371  63.7368\n",
       " 49.5974  47.4344  47.4366  47.4342     62.737   63.737   63.7371  63.7368\n",
       " 47.3309  45.2711  45.2703  45.2704  …  59.75    60.7501  60.75    60.7498\n",
       " 49.5963  47.4334  47.4337  47.4333     62.737   63.7371  63.7371  63.7367\n",
       " 51.8622  49.5962  49.5963  49.5963     65.724   66.724   66.7239  66.7239\n",
       " 47.3304  45.2704  45.2703  45.2702     59.75    60.7501  60.7501  60.7499\n",
       " 51.8624  49.5966  49.597   49.5961     65.7241  66.7241  66.724   66.7238\n",
       " 49.5964  47.4334  47.4356  47.4332  …  62.7371  63.7372  63.7371  63.7369\n",
       " 49.5963  47.4336  47.4332  47.4356     62.7371  63.7372  63.7372  63.7369\n",
       " 49.5964  47.4336  47.4331  47.4357     62.737   63.737   63.7371  63.7369\n",
       "  ⋮                                  ⋱                     ⋮              \n",
       " 66.724   63.737   63.7372  63.7369  …  87.6337  88.6338  88.6344  88.6333\n",
       " 66.7241  63.7371  63.7371  63.7371     87.6347  88.6337  88.6335  88.6339\n",
       " 66.7241  63.7372  63.737   63.7371     87.6336  88.6337  88.6346  88.6343\n",
       " 66.7242  63.7371  63.7371  63.737      87.6342  88.6338  88.6337  88.6334\n",
       " 65.7241  62.737   62.7372  62.7371     88.6337  87.6337  87.6337  87.6332\n",
       " 65.7242  62.7371  62.737   62.737   …  88.6341  87.6337  87.6338  87.6333\n",
       " 66.7241  63.7371  63.737   63.7371     87.6338  88.6345  88.6337  88.6336\n",
       " 66.724   63.737   63.737   63.737      87.6335  88.6337  88.6336  88.6334\n",
       " 65.724   62.737   62.7371  62.737      88.6494  87.6337  87.6337  87.6333\n",
       " 66.7241  63.7371  63.7371  63.737      87.6337  88.6494  88.6336  88.6345\n",
       " 66.7241  63.7371  63.737   63.7371  …  87.6337  88.6336  88.6494  88.6333\n",
       " 66.7239  63.7369  63.7367  63.7368     87.6333  88.6345  88.6333  88.6488"
      ]
     },
     "execution_count": 11,
     "metadata": {},
     "output_type": "execute_result"
    }
   ],
   "source": [
    "varRes = 0.115504E-01\n",
    "V = G + U + X + I*varRes"
   ]
  },
  {
   "cell_type": "code",
   "execution_count": 12,
   "metadata": {},
   "outputs": [
    {
     "data": {
      "text/plain": [
       "3172-element Array{Float64,1}:\n",
       " 0.411764705882353 \n",
       " 0.411764705882353 \n",
       " 0.558823529411765 \n",
       " 0.735294117647059 \n",
       " 0.529411764705882 \n",
       " 0.470588235294118 \n",
       " 0.617647058823529 \n",
       " 0.5               \n",
       " 0.5               \n",
       " 0.470588235294118 \n",
       " 0.588235294117647 \n",
       " 0.588235294117647 \n",
       " 0.558823529411765 \n",
       " ⋮                 \n",
       " 0.470344827586207 \n",
       " 0.340689655172414 \n",
       " 0.551034482758621 \n",
       " 0.501379310344828 \n",
       " 0.268965517241379 \n",
       " 0.0144827586206897\n",
       " 0.361379310344828 \n",
       " 0.126896551724138 \n",
       " 0.0937931034482759\n",
       " 0.368965517241379 \n",
       " 0.320689655172414 \n",
       " 0.33448275862069  "
      ]
     },
     "execution_count": 12,
     "metadata": {},
     "output_type": "execute_result"
    }
   ],
   "source": [
    "Vi = inv(V)\n",
    "C = G\n",
    "n = size(V,1)\n",
    "y  = phenotypes[!,:Nur2ADG]"
   ]
  },
  {
   "cell_type": "code",
   "execution_count": 13,
   "metadata": {},
   "outputs": [
    {
     "data": {
      "text/plain": [
       "3172-element Array{Float64,1}:\n",
       " -0.03269978962740087  \n",
       " -0.04141103528651882  \n",
       " -0.003404559298088642 \n",
       "  0.007333132302117441 \n",
       " -0.0028078252742749056\n",
       " -0.029104820328999578 \n",
       "  0.0016058431852922625\n",
       " -0.029221657972404586 \n",
       " -0.028075201173814717 \n",
       " -0.029629968296047794 \n",
       " -0.0166077387581616   \n",
       " -0.009703184159034263 \n",
       "  0.0092035811108483   \n",
       "  ⋮                    \n",
       " -0.020597732741668706 \n",
       "  0.020904890078992253 \n",
       "  0.02532503793606577  \n",
       "  0.01344567895642994  \n",
       " -0.01250545368331349  \n",
       " -0.038586502764992196 \n",
       " -0.014704111509553152 \n",
       " -0.09629083207824132  \n",
       " -0.031063957746966343 \n",
       " -0.005268594302331009 \n",
       " -0.0425139079205449   \n",
       " -0.004530648598336726 "
      ]
     },
     "execution_count": 13,
     "metadata": {},
     "output_type": "execute_result"
    }
   ],
   "source": [
    "# Calculate breeding values using BLUP\n",
    "EBV_Orig=G*inv(V)*y"
   ]
  },
  {
   "cell_type": "code",
   "execution_count": 85,
   "metadata": {},
   "outputs": [
    {
     "data": {
      "text/plain": [
       "loiEBV (generic function with 1 method)"
      ]
     },
     "execution_count": 85,
     "metadata": {},
     "output_type": "execute_result"
    }
   ],
   "source": [
    "# Inefficient way for LOOCV\n",
    "\n",
    "function loiEBV(i)\n",
    "    sel = setdiff(1:n,i)\n",
    "    C[i,sel]'*inv(V[sel,sel])*y[sel]\n",
    "end"
   ]
  },
  {
   "cell_type": "code",
   "execution_count": null,
   "metadata": {},
   "outputs": [],
   "source": [
    "@time EBV=[loiEBV(i) for i=1:n]"
   ]
  },
  {
   "cell_type": "code",
   "execution_count": 13,
   "metadata": {},
   "outputs": [
    {
     "data": {
      "text/plain": [
       "loiEBVEff2 (generic function with 1 method)"
      ]
     },
     "execution_count": 13,
     "metadata": {},
     "output_type": "execute_result"
    }
   ],
   "source": [
    "# Efficient way for LOOCV\n",
    "function loiEBVEff2(i,Vi,C,y)\n",
    "    r     = 1/Vi[i,i]\n",
    "    q     = -Vi[i,:] *r\n",
    "    yi    = copy(y)\n",
    "    yi[i] = 0.0\n",
    "    Ci    = C[i,:]\n",
    "    Ci[i] = 0.0\n",
    "    (Ci'*Vi - (Ci'q) * q'/r)*yi\n",
    "end"
   ]
  },
  {
   "cell_type": "code",
   "execution_count": 14,
   "metadata": {},
   "outputs": [
    {
     "name": "stdout",
     "output_type": "stream",
     "text": [
      "  6.442710 seconds (1.83 M allocations: 784.153 MiB, 1.06% gc time)\n"
     ]
    },
    {
     "data": {
      "text/plain": [
       "3172-element Array{Float64,1}:\n",
       " -0.02134861302021401  \n",
       " -0.03207447234044558  \n",
       " -0.007818274085819409 \n",
       " -0.021120092137236878 \n",
       " -0.0030139058085089238\n",
       " -0.025453230089774376 \n",
       " -0.00954434535320289  \n",
       " -0.03094235383853869  \n",
       " -0.029033068634815862 \n",
       " -0.028465122340812624 \n",
       " -0.02705440265080996  \n",
       " -0.020456884014111807 \n",
       "  0.007274276042889801 \n",
       "  ⋮                    \n",
       " -0.024192794043912738 \n",
       "  0.028774730282749326 \n",
       "  0.014197732362687607 \n",
       "  0.0030743637515259223\n",
       " -0.013397549494204332 \n",
       " -0.014317324929955222 \n",
       " -0.011063145484027637 \n",
       " -0.07106271681346113  \n",
       " -0.01535671565076456  \n",
       " -0.0002466794440884289\n",
       " -0.0347466454731071   \n",
       "  0.005379190734722927 "
      ]
     },
     "execution_count": 14,
     "metadata": {},
     "output_type": "execute_result"
    }
   ],
   "source": [
    "@time EBV2=[loiEBVEff2(i,Vi,C,y) for i=1:n]"
   ]
  },
  {
   "cell_type": "code",
   "execution_count": 18,
   "metadata": {},
   "outputs": [
    {
     "data": {
      "text/plain": [
       "loiEBVEff (generic function with 1 method)"
      ]
     },
     "execution_count": 18,
     "metadata": {},
     "output_type": "execute_result"
    }
   ],
   "source": [
    "function loiEBVEff(i)\n",
    "    sel = setdiff(1:n,i)\n",
    "    r   = 1/Vi[i,i]\n",
    "    q   = -Vi[i,sel] *r\n",
    "    C[i,sel]'*(Vi[sel,sel] - q*q'/r)*y[sel]\n",
    "end"
   ]
  },
  {
   "cell_type": "code",
   "execution_count": 19,
   "metadata": {},
   "outputs": [
    {
     "name": "stdout",
     "output_type": "stream",
     "text": [
      "794.748713 seconds (1.21 M allocations: 951.691 GiB, 38.28% gc time)\n"
     ]
    },
    {
     "data": {
      "text/plain": [
       "3172-element Array{Float64,1}:\n",
       " -0.021348613020205576  \n",
       " -0.0320744723404313    \n",
       " -0.007818274085823931  \n",
       " -0.021120092137236403  \n",
       " -0.0030139058085021384 \n",
       " -0.02545323008977707   \n",
       " -0.009544345353187045  \n",
       " -0.030942353838545204  \n",
       " -0.02903306863482038   \n",
       " -0.028465122340809352  \n",
       " -0.027054402650810574  \n",
       " -0.0204568840141332    \n",
       "  0.007274276042869225  \n",
       "  ⋮                     \n",
       " -0.02419279404391802   \n",
       "  0.028774730282750453  \n",
       "  0.014197732362694147  \n",
       "  0.003074363751511487  \n",
       " -0.013397549494198913  \n",
       " -0.014317324929947632  \n",
       " -0.011063145484035312  \n",
       " -0.0710627168134462    \n",
       " -0.015356715650729887  \n",
       " -0.00024667944406771194\n",
       " -0.03474664547310121   \n",
       "  0.005379190734734218  "
      ]
     },
     "execution_count": 19,
     "metadata": {},
     "output_type": "execute_result"
    }
   ],
   "source": [
    "@time EBV1=[loiEBVEff(i) for i=1:n]"
   ]
  },
  {
   "cell_type": "code",
   "execution_count": 15,
   "metadata": {},
   "outputs": [
    {
     "data": {
      "text/plain": [
       "0.14827741122073912"
      ]
     },
     "execution_count": 15,
     "metadata": {},
     "output_type": "execute_result"
    }
   ],
   "source": [
    "cor(EBV2, y)"
   ]
  }
 ],
 "metadata": {
  "kernelspec": {
   "display_name": "Julia 1.1.0",
   "language": "julia",
   "name": "julia-1.1"
  },
  "language_info": {
   "file_extension": ".jl",
   "mimetype": "application/julia",
   "name": "julia",
   "version": "1.1.0"
  }
 },
 "nbformat": 4,
 "nbformat_minor": 2
}
